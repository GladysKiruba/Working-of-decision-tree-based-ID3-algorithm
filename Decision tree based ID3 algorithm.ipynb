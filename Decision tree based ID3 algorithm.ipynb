{
 "cells": [
  {
   "cell_type": "markdown",
   "id": "76499add",
   "metadata": {},
   "source": [
    "## Step 1: Load the Dataset"
   ]
  },
  {
   "cell_type": "code",
   "execution_count": 1,
   "id": "81e7ab74",
   "metadata": {},
   "outputs": [
    {
     "name": "stdout",
     "output_type": "stream",
     "text": [
      "   sepal length (cm)  sepal width (cm)  petal length (cm)  petal width (cm)  \\\n",
      "0                5.1               3.5                1.4               0.2   \n",
      "1                4.9               3.0                1.4               0.2   \n",
      "2                4.7               3.2                1.3               0.2   \n",
      "3                4.6               3.1                1.5               0.2   \n",
      "4                5.0               3.6                1.4               0.2   \n",
      "\n",
      "  species  \n",
      "0  setosa  \n",
      "1  setosa  \n",
      "2  setosa  \n",
      "3  setosa  \n",
      "4  setosa  \n"
     ]
    }
   ],
   "source": [
    "from sklearn.datasets import load_iris\n",
    "import pandas as pd\n",
    "\n",
    "# Load the iris dataset\n",
    "iris = load_iris()\n",
    "data = pd.DataFrame(iris.data, columns=iris.feature_names)\n",
    "data['species'] = iris.target\n",
    "data['species'] = data['species'].map({0: 'setosa', 1: 'versicolor', 2: 'virginica'})\n",
    "\n",
    "# Display the first few rows of the dataset\n",
    "print(data.head())"
   ]
  },
  {
   "cell_type": "markdown",
   "id": "11975f4a",
   "metadata": {},
   "source": [
    "## Step 2: Implement the ID3 Algorithm with Proper Encoding\n",
    "We'll use label encoding for categorical features and handle the species column correctly."
   ]
  },
  {
   "cell_type": "code",
   "execution_count": 2,
   "id": "ed87ee96",
   "metadata": {},
   "outputs": [],
   "source": [
    "import numpy as np\n",
    "\n",
    "def entropy(s):\n",
    "    # Calculate the entropy of a dataset\n",
    "    _, counts = np.unique(s, return_counts=True)\n",
    "    probabilities = counts / len(s)\n",
    "    return -sum(prob * np.log2(prob) for prob in probabilities if prob > 0)\n",
    "\n",
    "def information_gain(data, feature, target):\n",
    "    # Calculate the information gain of a feature\n",
    "    total_entropy = entropy(data[target])\n",
    "    values, counts = np.unique(data[feature], return_counts=True)\n",
    "    weighted_entropy = sum((counts[i] / sum(counts)) * entropy(data[data[feature] == values[i]][target]) for i in range(len(values)))\n",
    "    return total_entropy - weighted_entropy\n",
    "\n",
    "def id3(data, original_data, features, target, parent_node_class=None):\n",
    "    # ID3 algorithm implementation\n",
    "    if len(np.unique(data[target])) == 1:\n",
    "        return np.unique(data[target])[0]\n",
    "    elif len(data) == 0:\n",
    "        return np.unique(original_data[target])[np.argmax(np.unique(original_data[target], return_counts=True)[1])]\n",
    "    elif len(features) == 0:\n",
    "        return parent_node_class\n",
    "    else:\n",
    "        parent_node_class = np.unique(data[target])[np.argmax(np.unique(data[target], return_counts=True)[1])]\n",
    "        item_values = [information_gain(data, feature, target) for feature in features]\n",
    "        best_feature_index = np.argmax(item_values)\n",
    "        best_feature = features[best_feature_index]\n",
    "        tree = {best_feature: {}}\n",
    "        features = [i for i in features if i != best_feature]\n",
    "        for value in np.unique(data[best_feature]):\n",
    "            sub_data = data[data[best_feature] == value]\n",
    "            subtree = id3(sub_data, original_data, features, target, parent_node_class)\n",
    "            tree[best_feature][value] = subtree\n",
    "        return tree"
   ]
  },
  {
   "cell_type": "markdown",
   "id": "1962e8f6",
   "metadata": {},
   "source": [
    "## Step 3: Train the Decision Tree"
   ]
  },
  {
   "cell_type": "code",
   "execution_count": 3,
   "id": "26e6baaf",
   "metadata": {},
   "outputs": [
    {
     "name": "stdout",
     "output_type": "stream",
     "text": [
      "{'petal length (cm)': {1.0: 'setosa',\n",
      "                       1.1: 'setosa',\n",
      "                       1.2: 'setosa',\n",
      "                       1.3: 'setosa',\n",
      "                       1.4: 'setosa',\n",
      "                       1.5: 'setosa',\n",
      "                       1.6: 'setosa',\n",
      "                       1.7: 'setosa',\n",
      "                       1.9: 'setosa',\n",
      "                       3.0: 'versicolor',\n",
      "                       3.3: 'versicolor',\n",
      "                       3.5: 'versicolor',\n",
      "                       3.6: 'versicolor',\n",
      "                       3.7: 'versicolor',\n",
      "                       3.8: 'versicolor',\n",
      "                       3.9: 'versicolor',\n",
      "                       4.0: 'versicolor',\n",
      "                       4.1: 'versicolor',\n",
      "                       4.2: 'versicolor',\n",
      "                       4.3: 'versicolor',\n",
      "                       4.4: 'versicolor',\n",
      "                       4.5: {'sepal length (cm)': {4.9: 'virginica',\n",
      "                                                   5.4: 'versicolor',\n",
      "                                                   5.6: 'versicolor',\n",
      "                                                   5.7: 'versicolor',\n",
      "                                                   6.0: 'versicolor',\n",
      "                                                   6.2: 'versicolor',\n",
      "                                                   6.4: 'versicolor'}},\n",
      "                       4.6: 'versicolor',\n",
      "                       4.7: 'versicolor',\n",
      "                       4.8: {'sepal length (cm)': {5.9: 'versicolor',\n",
      "                                                   6.0: 'virginica',\n",
      "                                                   6.2: 'virginica',\n",
      "                                                   6.8: 'versicolor'}},\n",
      "                       4.9: {'sepal width (cm)': {2.5: 'versicolor',\n",
      "                                                  2.7: 'virginica',\n",
      "                                                  2.8: 'virginica',\n",
      "                                                  3.0: 'virginica',\n",
      "                                                  3.1: 'versicolor'}},\n",
      "                       5.0: {'sepal length (cm)': {5.7: 'virginica',\n",
      "                                                   6.0: 'virginica',\n",
      "                                                   6.3: 'virginica',\n",
      "                                                   6.7: 'versicolor'}},\n",
      "                       5.1: {'sepal length (cm)': {5.8: 'virginica',\n",
      "                                                   5.9: 'virginica',\n",
      "                                                   6.0: 'versicolor',\n",
      "                                                   6.3: 'virginica',\n",
      "                                                   6.5: 'virginica',\n",
      "                                                   6.9: 'virginica'}},\n",
      "                       5.2: 'virginica',\n",
      "                       5.3: 'virginica',\n",
      "                       5.4: 'virginica',\n",
      "                       5.5: 'virginica',\n",
      "                       5.6: 'virginica',\n",
      "                       5.7: 'virginica',\n",
      "                       5.8: 'virginica',\n",
      "                       5.9: 'virginica',\n",
      "                       6.0: 'virginica',\n",
      "                       6.1: 'virginica',\n",
      "                       6.3: 'virginica',\n",
      "                       6.4: 'virginica',\n",
      "                       6.6: 'virginica',\n",
      "                       6.7: 'virginica',\n",
      "                       6.9: 'virginica'}}\n"
     ]
    }
   ],
   "source": [
    "features = data.columns[:-1]\n",
    "target = 'species'\n",
    "\n",
    "# Build the decision tree\n",
    "tree = id3(data, data, features, target)\n",
    "\n",
    "# Print the decision tree\n",
    "import pprint\n",
    "pprint.pprint(tree)"
   ]
  },
  {
   "cell_type": "markdown",
   "id": "491dcbd7",
   "metadata": {},
   "source": [
    "## Step 4: Classify a New Sample\n",
    "We'll write a function to classify new samples using the constructed decision tree."
   ]
  },
  {
   "cell_type": "code",
   "execution_count": 4,
   "id": "899dbb49",
   "metadata": {},
   "outputs": [
    {
     "name": "stdout",
     "output_type": "stream",
     "text": [
      "The new sample is classified as: setosa\n"
     ]
    }
   ],
   "source": [
    "def classify(sample, tree):\n",
    "    for attribute in tree.keys():\n",
    "        value = sample[attribute]\n",
    "        if value in tree[attribute]:\n",
    "            subtree = tree[attribute][value]\n",
    "            if isinstance(subtree, dict):\n",
    "                return classify(sample, subtree)\n",
    "            else:\n",
    "                return subtree\n",
    "\n",
    "# New sample to classify (example)\n",
    "new_sample = {'sepal length (cm)': 5.1, 'sepal width (cm)': 3.5, 'petal length (cm)': 1.4, 'petal width (cm)': 0.2}\n",
    "\n",
    "# Classify the new sample\n",
    "prediction = classify(new_sample, tree)\n",
    "print(f\"The new sample is classified as: {prediction}\")"
   ]
  },
  {
   "cell_type": "code",
   "execution_count": null,
   "id": "3c1d0575",
   "metadata": {},
   "outputs": [],
   "source": []
  }
 ],
 "metadata": {
  "kernelspec": {
   "display_name": "Python 3 (ipykernel)",
   "language": "python",
   "name": "python3"
  },
  "language_info": {
   "codemirror_mode": {
    "name": "ipython",
    "version": 3
   },
   "file_extension": ".py",
   "mimetype": "text/x-python",
   "name": "python",
   "nbconvert_exporter": "python",
   "pygments_lexer": "ipython3",
   "version": "3.11.5"
  }
 },
 "nbformat": 4,
 "nbformat_minor": 5
}
